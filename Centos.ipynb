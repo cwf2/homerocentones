{
 "cells": [
  {
   "cell_type": "markdown",
   "id": "4f46d5dd",
   "metadata": {},
   "source": [
    "## Preliminaries"
   ]
  },
  {
   "cell_type": "markdown",
   "id": "b54c8a8e",
   "metadata": {},
   "source": [
    "### imports"
   ]
  },
  {
   "cell_type": "code",
   "execution_count": 1,
   "id": "79dc9726",
   "metadata": {},
   "outputs": [],
   "source": [
    "from dicesapi import DicesAPI\n",
    "import pandas as pd\n",
    "import os"
   ]
  },
  {
   "cell_type": "markdown",
   "id": "0dd40745",
   "metadata": {},
   "source": [
    "### global variables"
   ]
  },
  {
   "cell_type": "code",
   "execution_count": 2,
   "id": "0e02253c",
   "metadata": {},
   "outputs": [],
   "source": [
    "input_file = os.path.join('data', 'input.xlsx')\n",
    "sheet_name = 'with_repeated_lines'\n",
    "output_dir = 'output'"
   ]
  },
  {
   "cell_type": "markdown",
   "id": "3ab2765e",
   "metadata": {},
   "source": [
    "### DICES connection"
   ]
  },
  {
   "cell_type": "code",
   "execution_count": 3,
   "id": "45e3d0ca",
   "metadata": {},
   "outputs": [],
   "source": [
    "api = DicesAPI(logfile=os.path.join(output_dir, 'dices.log'))"
   ]
  },
  {
   "cell_type": "markdown",
   "id": "15bdbaa8",
   "metadata": {},
   "source": [
    "### function definitions"
   ]
  },
  {
   "cell_type": "code",
   "execution_count": 4,
   "id": "94e920bf",
   "metadata": {},
   "outputs": [],
   "source": [
    "def gender_all(insts):\n",
    "    '''returns a simple gender label for a group of instances'''\n",
    "    genders = '-'.join(sorted(set([inst.gender for inst in insts])))\n",
    "    if len(genders) == 0:\n",
    "        return None    \n",
    "    \n",
    "    if genders == 'male':\n",
    "        return 'male'\n",
    "    if genders == 'female':\n",
    "        return 'female'\n",
    "    \n",
    "    return 'other'\n",
    "    \n",
    "def gender_first(insts):\n",
    "    '''returns a gender label for the first instance of a group'''\n",
    "    genders = [inst.gender for inst in insts]\n",
    "    if len(genders) == 0:\n",
    "        return None\n",
    "        \n",
    "    if genders[0] == 'male':\n",
    "        return 'male'\n",
    "    if genders[0] == 'female':\n",
    "        return 'female'\n",
    "    \n",
    "    return 'other'"
   ]
  },
  {
   "cell_type": "code",
   "execution_count": 5,
   "id": "46dd006a",
   "metadata": {},
   "outputs": [],
   "source": [
    "def being_all(insts):\n",
    "    '''returns a simple being label for a group of instances'''\n",
    "    beings = '-'.join(sorted(set([inst.being for inst in insts])))\n",
    "    if len(beings) == 0:\n",
    "        return None\n",
    "    \n",
    "    if beings == 'mortal':\n",
    "        return 'mortal'\n",
    "    if beings == 'divine':\n",
    "        return 'divine'\n",
    "    \n",
    "    return 'other'\n",
    "    \n",
    "def being_first(insts):\n",
    "    '''returns a being label for the first instance of a group'''\n",
    "    beings = [inst.being for inst in insts]\n",
    "    if len(beings) == 0:\n",
    "        return None    \n",
    "    \n",
    "    if beings[0] == 'moral':\n",
    "        return 'mortal'\n",
    "    if beings[0] == 'divine':\n",
    "        return 'divine'\n",
    "    \n",
    "    return 'other'"
   ]
  },
  {
   "cell_type": "code",
   "execution_count": 6,
   "id": "fd1732a7",
   "metadata": {},
   "outputs": [],
   "source": [
    "def speech_to_lines(speech):\n",
    "    '''turn a speech into a pandas dataframe with one line per row'''\n",
    "\n",
    "    if speech.l_fi.split('.')[0] != speech.l_la.split('.')[0]:\n",
    "        if speech.l_fi == '9.2' and speech.l_la == '11.332':\n",
    "            loci = [(9, line) for line in range(2, 333)]\n",
    "            loci.extend([(10, line) for line in range(1, 575)])\n",
    "            loci.extend([(11, line) for line in range(1, 333)])\n",
    "        elif speech.l_fi == '11.378' and speech.l_la == '12.453':\n",
    "            loci = [(11, line) for line in range(378, 641)]\n",
    "            loci.extend([(12, line) for line in range(1, 454)])\n",
    "        else:\n",
    "            print(f\"Can't process {speech}\")\n",
    "            loci = []\n",
    "    else:\n",
    "        book = int(speech.l_fi.split('.')[0])\n",
    "        l_fi = int(speech.l_fi.split('.')[1])\n",
    "        l_la = int(speech.l_la.split('.')[1])\n",
    "\n",
    "        loci = [(book, line) for line in range(l_fi, l_la+1)]\n",
    "    \n",
    "    df = pd.DataFrame(dict(\n",
    "        seq = speech.seq,\n",
    "        work = speech.work.urn,\n",
    "        book = book,\n",
    "        line = line,\n",
    "        from_first = i,\n",
    "        from_last = i - len(loci) + 1,\n",
    "        cluster = speech.cluster.id,\n",
    "        part = speech.part,\n",
    "        level = speech.level,\n",
    "        spkr_first = speech.spkr[0].name,\n",
    "        spkr_all = speech.getSpkrString(),\n",
    "        spkr_gender_first = gender_first(speech.spkr),\n",
    "        spkr_gender_all = gender_all(speech.spkr),\n",
    "        spkr_being_first = being_first(speech.spkr),\n",
    "        spkr_being_all = being_all(speech.spkr),\n",
    "        addr_first = speech.addr[0].name,\n",
    "        addr_all = speech.getAddrString(),\n",
    "        addr_gender_first = gender_first(speech.addr),\n",
    "        addr_gender_all = gender_all(speech.addr),\n",
    "        addr_being_first = being_first(speech.addr),\n",
    "        addr_being_all = being_all(speech.addr),\n",
    "    ) for i, (book, line) in enumerate(loci))\n",
    "    \n",
    "    return df"
   ]
  },
  {
   "cell_type": "markdown",
   "id": "fa213010",
   "metadata": {},
   "source": [
    "## Data"
   ]
  },
  {
   "cell_type": "markdown",
   "id": "e646331a",
   "metadata": {},
   "source": [
    "### Homer speech data"
   ]
  },
  {
   "cell_type": "code",
   "execution_count": 7,
   "id": "9ad6812d",
   "metadata": {},
   "outputs": [],
   "source": [
    "hom_speeches = sorted(api.getSpeeches(work_title='Iliad') + api.getSpeeches(work_title='Odyssey'))\n",
    "hom_df = pd.concat([speech_to_lines(s) for s in hom_speeches])\n",
    "hom_df = hom_df.rename(columns={\n",
    "            'work':'hom_work',\n",
    "            'book':'hom_book',\n",
    "            'line':'hom_line',\n",
    "            'seq':'hom_seq',\n",
    "            'from_first':'hom_from_first',\n",
    "            'from_last':'hom_from_last',\n",
    "            'cluster':'hom_cluster',\n",
    "            'part':'hom_part',\n",
    "            'level':'hom_level',\n",
    "            'spkr_first':'hom_spkr_first',\n",
    "            'spkr_all':'hom_spkr_all',    \n",
    "            'spkr_gender_first':'hom_spkr_gender_first',\n",
    "            'spkr_gender_all':'hom_spkr_gender_all',\n",
    "            'spkr_being_first':'hom_spkr_being_first',\n",
    "            'spkr_being_all':'hom_spkr_being_all',\n",
    "            'addr_first':'hom_addr_first',\n",
    "            'addr_all':'hom_addr_all',    \n",
    "            'addr_gender_first':'hom_addr_gender_first',\n",
    "            'addr_gender_all':'hom_addr_gender_all',\n",
    "            'addr_being_first':'hom_addr_being_first',\n",
    "            'addr_being_all':'hom_addr_being_all',\n",
    "})\n",
    "\n",
    "# where the same locus occurs in two speeches (i.e. embedding),\n",
    "#  keep only the innermost (highest embedded level)\n",
    "hom_df = hom_df.sort_values(by=['hom_work', 'hom_book', 'hom_line', 'hom_level']\n",
    "              ).drop_duplicates(['hom_work', 'hom_book', 'hom_line'], keep='last')"
   ]
  },
  {
   "cell_type": "markdown",
   "id": "14f6318c",
   "metadata": {},
   "source": [
    "### Eudocia speech data"
   ]
  },
  {
   "cell_type": "code",
   "execution_count": 8,
   "id": "5e4094fe",
   "metadata": {},
   "outputs": [],
   "source": [
    "eud_speeches = api.getSpeeches(work_title='Homerocentones')\n",
    "eud_df = pd.DataFrame(dict(\n",
    "    eud_seq = s.seq,\n",
    "    eud_cluster = s.cluster.id,\n",
    "    eud_part = s.part,\n",
    "    eud_first = int(s.l_fi),\n",
    "    eud_last = int(s.l_la),\n",
    "    eud_spkr_first = s.spkr[0].name,\n",
    "    eud_spkr_all = s.getSpkrString(),\n",
    "    eud_spkr_gender_first = gender_first(s.spkr),\n",
    "    eud_spkr_gender_all = gender_all(s.spkr),\n",
    "    eud_spkr_being_first = being_first(s.spkr),\n",
    "    eud_spkr_being_all = being_all(s.spkr),\n",
    "    eud_addr_first = s.addr[0].name,\n",
    "    eud_addr_all = s.getAddrString(),\n",
    "    eud_addr_gender_first = gender_first(s.addr),\n",
    "    eud_addr_gender_all = gender_all(s.addr),\n",
    "    eud_addr_being_first = being_first(s.addr),\n",
    "    eud_addr_being_all = being_all(s.addr),\n",
    ") for s in eud_speeches)"
   ]
  },
  {
   "cell_type": "markdown",
   "id": "6744ae1b",
   "metadata": {},
   "source": [
    "### source lines for cento"
   ]
  },
  {
   "cell_type": "code",
   "execution_count": 9,
   "id": "c65c9c9f",
   "metadata": {},
   "outputs": [],
   "source": [
    "cento_df = pd.read_excel(input_file, \n",
    "            sheet_name=sheet_name, \n",
    "            usecols=[0,1,2,3,4,5,6],\n",
    "            keep_default_na=False,\n",
    "            )\n",
    "cento_df.loc[cento_df.hom_work=='Il.','hom_work'] = 'urn:cts:greekLit:tlg0012.tlg001.perseus-grc2'\n",
    "cento_df.loc[cento_df.hom_work=='Od.','hom_work'] = 'urn:cts:greekLit:tlg0012.tlg002.perseus-grc2'"
   ]
  },
  {
   "cell_type": "markdown",
   "id": "605991cc",
   "metadata": {},
   "source": [
    "### add speaker, addressee info from eud_speeches"
   ]
  },
  {
   "cell_type": "code",
   "execution_count": 10,
   "id": "53385329",
   "metadata": {},
   "outputs": [],
   "source": [
    "df = pd.merge(cento_df, eud_df, how='left', on='eud_seq')"
   ]
  },
  {
   "cell_type": "code",
   "execution_count": 11,
   "id": "847db369",
   "metadata": {},
   "outputs": [],
   "source": [
    "# calculate distance from beginning, end of speeches\n",
    "df['eud_from_first'] = df.eud_line - df.eud_first\n",
    "df['eud_from_last'] = df.eud_line - df.eud_last\n",
    "df = df.drop(columns=['eud_first', 'eud_last'])"
   ]
  },
  {
   "cell_type": "markdown",
   "id": "6967d996",
   "metadata": {},
   "source": [
    "### add speaker, addressee info from hom_speeches"
   ]
  },
  {
   "cell_type": "code",
   "execution_count": 12,
   "id": "e2df6ce7",
   "metadata": {},
   "outputs": [],
   "source": [
    "joint_df=pd.merge(df, hom_df, how='left', on=['hom_work', 'hom_book', 'hom_line'])"
   ]
  },
  {
   "cell_type": "markdown",
   "id": "fe1a6a1e",
   "metadata": {},
   "source": [
    "### label narrator text in Homer"
   ]
  },
  {
   "cell_type": "code",
   "execution_count": 13,
   "id": "0cb21760",
   "metadata": {},
   "outputs": [],
   "source": [
    "mask = joint_df.hom_spkr_all.isna() & joint_df.hom_line.notna()\n",
    "joint_df.loc[mask, 'hom_spkr_all'] = 'Narrator'\n",
    "joint_df.loc[mask, 'hom_spkr_first'] = 'Narrator'\n",
    "joint_df.loc[mask, 'hom_spkr_gender_all'] = 'Narrator'\n",
    "joint_df.loc[mask, 'hom_spkr_gender_first'] = 'Narrator'\n",
    "joint_df.loc[mask, 'hom_spkr_being_all'] = 'Narrator'\n",
    "joint_df.loc[mask, 'hom_spkr_being_first'] = 'Narrator'\n",
    "joint_df.loc[mask, 'hom_addr_all'] = 'Narrator'\n",
    "joint_df.loc[mask, 'hom_addr_first'] = 'Narrator'\n",
    "joint_df.loc[mask, 'hom_addr_gender_all'] = 'Narrator'\n",
    "joint_df.loc[mask, 'hom_addr_gender_first'] = 'Narrator'\n",
    "joint_df.loc[mask, 'hom_addr_being_all'] = 'Narrator'\n",
    "joint_df.loc[mask, 'hom_addr_being_first'] = 'Narrator'"
   ]
  },
  {
   "cell_type": "markdown",
   "id": "ae8d5081",
   "metadata": {},
   "source": [
    "### simplify spkr columns"
   ]
  },
  {
   "cell_type": "code",
   "execution_count": 14,
   "id": "80b1ab3c",
   "metadata": {},
   "outputs": [],
   "source": [
    "# in Eudocia and Homer there are no lines with multiple speakers\n",
    "#  - that means we can simplify the columns structure significantly\n",
    "\n",
    "if pd.Series.all(joint_df.hom_spkr_all == joint_df.hom_spkr_first):\n",
    "    joint_df = joint_df.drop(columns = [\n",
    "        'eud_spkr_all', 'eud_spkr_gender_all', 'eud_spkr_being_all',\n",
    "        'hom_spkr_all', 'hom_spkr_gender_all', 'hom_spkr_being_all',\n",
    "    ])\n",
    "    joint_df = joint_df.rename(columns={\n",
    "        'eud_spkr_first':'eud_spkr',\n",
    "        'eud_spkr_gender_first':'eud_spkr_gender',\n",
    "        'eud_spkr_being_first':'eud_spkr_being',\n",
    "        'hom_spkr_first':'hom_spkr',\n",
    "        'hom_spkr_gender_first':'hom_spkr_gender',\n",
    "        'hom_spkr_being_first':'hom_spkr_being',\n",
    "    })\n",
    "else:\n",
    "    print(\"Can't simplify columns: found multiple speakers!\")"
   ]
  },
  {
   "cell_type": "markdown",
   "id": "17f26942",
   "metadata": {},
   "source": [
    "### write output"
   ]
  },
  {
   "cell_type": "code",
   "execution_count": 15,
   "id": "513fa106",
   "metadata": {},
   "outputs": [],
   "source": [
    "hom_df.to_csv(os.path.join(output_dir, 'homer.csv'), index=False)\n",
    "eud_df.to_csv(os.path.join(output_dir, 'eudocia.csv'), index=False)\n",
    "joint_df.to_csv(os.path.join(output_dir, 'output.csv'), index=False)"
   ]
  },
  {
   "cell_type": "markdown",
   "id": "18f4fe0a",
   "metadata": {},
   "source": [
    "## sample calculations"
   ]
  },
  {
   "cell_type": "code",
   "execution_count": 16,
   "id": "832e56ad",
   "metadata": {},
   "outputs": [
    {
     "data": {
      "text/plain": [
       "<AxesSubplot:ylabel='hom_spkr_gender'>"
      ]
     },
     "execution_count": 16,
     "metadata": {},
     "output_type": "execute_result"
    },
    {
     "data": {
      "image/png": "[encoded data removed]",
      "text/plain": [
       "<Figure size 640x480 with 1 Axes>"
      ]
     },
     "metadata": {},
     "output_type": "display_data"
    }
   ],
   "source": [
    "joint_df.loc[joint_df.eud_spkr=='Maria','hom_spkr_gender'].value_counts().plot.pie()"
   ]
  }
 ],
 "metadata": {
  "kernelspec": {
   "display_name": "Python 3 (ipykernel)",
   "language": "python",
   "name": "python3"
  },
  "language_info": {
   "codemirror_mode": {
    "name": "ipython",
    "version": 3
   },
   "file_extension": ".py",
   "mimetype": "text/x-python",
   "name": "python",
   "nbconvert_exporter": "python",
   "pygments_lexer": "ipython3",
   "version": "3.7.3"
  }
 },
 "nbformat": 4,
 "nbformat_minor": 5
}
