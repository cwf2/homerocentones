{
 "cells": [
  {
   "cell_type": "markdown",
   "id": "75aae671",
   "metadata": {},
   "source": [
    "## import statements"
   ]
  },
  {
   "cell_type": "code",
   "execution_count": 1,
   "id": "35a9eee8",
   "metadata": {},
   "outputs": [],
   "source": [
    "from MyCapytain.resolvers.cts.api import HttpCtsResolver\n",
    "from MyCapytain.retrievers.cts5 import HttpCtsRetriever\n",
    "from dicesapi.jupyter import NotebookPBar\n",
    "import pandas as pd\n",
    "import os"
   ]
  },
  {
   "cell_type": "markdown",
   "id": "976db0c0",
   "metadata": {},
   "source": [
    "## global values"
   ]
  },
  {
   "cell_type": "code",
   "execution_count": 2,
   "id": "b0339034",
   "metadata": {},
   "outputs": [],
   "source": [
    "# CTS endpoint\n",
    "cts_server = 'https://scaife-cts.perseus.org/api/cts'\n",
    "\n",
    "# input document\n",
    "xls_input = 'data/input.xlsx'\n",
    "xls_worksheet = 'Homerocentones_linesfromHomer'\n",
    "\n",
    "# output directory\n",
    "output_dir = 'output'"
   ]
  },
  {
   "cell_type": "markdown",
   "id": "a256f935",
   "metadata": {},
   "source": [
    "## initialize connection to CTS server"
   ]
  },
  {
   "cell_type": "code",
   "execution_count": 3,
   "id": "c87f3dd8",
   "metadata": {},
   "outputs": [],
   "source": [
    "# create resolver\n",
    "resolver = HttpCtsResolver(HttpCtsRetriever(cts_server))\n",
    "\n",
    "# cache to prevent multiple requests\n",
    "cts_cache = dict()"
   ]
  },
  {
   "cell_type": "code",
   "execution_count": 4,
   "id": "c4754924",
   "metadata": {},
   "outputs": [],
   "source": [
    "# urns for the two poems\n",
    "works = {\n",
    "    'Il.': 'urn:cts:greekLit:tlg0012.tlg001.perseus-grc2',\n",
    "    'Od.': 'urn:cts:greekLit:tlg0012.tlg002.perseus-grc2',\n",
    "}"
   ]
  },
  {
   "cell_type": "markdown",
   "id": "7d91f3e3",
   "metadata": {},
   "source": [
    "## build index by verse text"
   ]
  },
  {
   "cell_type": "code",
   "execution_count": 5,
   "id": "18ac3dcd",
   "metadata": {},
   "outputs": [],
   "source": [
    "index_text = dict()\n",
    "for work, urn in works.items():\n",
    "    if urn not in cts_cache:\n",
    "        xml = resolver.getTextualNode(urn).xml\n",
    "        cts_cache[urn] = xml\n",
    "    else:\n",
    "        xml = cts_cache[urn]\n",
    "    \n",
    "    for note in xml.findall('.//l//note', namespaces=xml.nsmap):\n",
    "        note.clear(keep_tail=True)\n",
    "        \n",
    "    if work == 'Il.':\n",
    "        book_pattern = './/div[@subtype=\"Book\"]'\n",
    "    else:\n",
    "        book_pattern = './/div[@subtype=\"book\"]'\n",
    "    \n",
    "    for book in xml.findall(book_pattern, namespaces=xml.nsmap):\n",
    "        bn = book.get('n')\n",
    "        \n",
    "        for line in book.findall('.//l', namespaces=xml.nsmap):\n",
    "            ln = line.get('n')\n",
    "            text = ''.join(line.itertext()).strip()\n",
    "            \n",
    "            index_text.setdefault(text, [])\n",
    "            index_text[text].append(f'{work} {bn}.{ln}')"
   ]
  },
  {
   "cell_type": "markdown",
   "id": "bdceedd9",
   "metadata": {},
   "source": [
    "## re-index by locus"
   ]
  },
  {
   "cell_type": "code",
   "execution_count": 6,
   "id": "e1f6acec",
   "metadata": {},
   "outputs": [],
   "source": [
    "index_line = dict()\n",
    "f = open(os.path.join(output_dir, 'repeated_lines.txt'), 'w')\n",
    "\n",
    "for key in index_text:\n",
    "    if len(index_text[key]) == 1:\n",
    "        continue\n",
    "    \n",
    "    for ref1 in index_text[key]:\n",
    "        if ref1 not in index_line:\n",
    "            index_line[ref1] = []\n",
    "            \n",
    "        for ref2 in index_text[key]:\n",
    "            if ref1 != ref2:\n",
    "                if ref2 not in index_line[ref1]:\n",
    "                    index_line[ref1].append(ref2)\n",
    "    \n",
    "    f.write(key + '\\n')\n",
    "    f.write(', '.join([ref for ref in index_text[key]]) + '\\n\\n')\n",
    "\n",
    "f.close()"
   ]
  },
  {
   "cell_type": "markdown",
   "id": "90b45b00",
   "metadata": {},
   "source": [
    "## read the input spreadsheet"
   ]
  },
  {
   "cell_type": "code",
   "execution_count": 7,
   "id": "ff8a8eac",
   "metadata": {},
   "outputs": [],
   "source": [
    "df = pd.read_excel(xls_input, xls_worksheet, usecols=[0,1,2,3,4,5], keep_default_na=False,)"
   ]
  },
  {
   "cell_type": "markdown",
   "id": "e4322dfb",
   "metadata": {},
   "source": [
    "## add rows for repeated lines"
   ]
  },
  {
   "cell_type": "code",
   "execution_count": 8,
   "id": "eb2d32fa",
   "metadata": {},
   "outputs": [],
   "source": [
    "new_rows = []\n",
    "has_rep = []\n",
    "\n",
    "for i, row in enumerate(df.itertuples()):\n",
    "    key = f'{row[3]} {row[4]}.{row[5]}'\n",
    "    \n",
    "    if key in index_line:\n",
    "        has_rep.append(i)\n",
    "        \n",
    "        for ref in index_line[key]:\n",
    "            work, loc = ref.split()\n",
    "            book, line = loc.split('.')\n",
    "            \n",
    "            new_rows.append(dict(\n",
    "                eud_seq = row[1],\n",
    "                eud_line = row[2],\n",
    "                hom_work = work,\n",
    "                hom_book = book,\n",
    "                hom_line = line,\n",
    "                part = row[6],\n",
    "                rep = True,\n",
    "            ))"
   ]
  },
  {
   "cell_type": "markdown",
   "id": "c63581b4",
   "metadata": {},
   "source": [
    "## add new col marking repetitions"
   ]
  },
  {
   "cell_type": "code",
   "execution_count": 9,
   "id": "ea08ec7e",
   "metadata": {},
   "outputs": [],
   "source": [
    "df.loc[:, 'rep'] = False\n",
    "df.loc[has_rep, 'rep'] = True"
   ]
  },
  {
   "cell_type": "markdown",
   "id": "2a5fc5b1",
   "metadata": {},
   "source": [
    "## add new rows to data frame"
   ]
  },
  {
   "cell_type": "code",
   "execution_count": 10,
   "id": "112c7d30",
   "metadata": {},
   "outputs": [],
   "source": [
    "df = pd.concat([df, pd.DataFrame(new_rows)])"
   ]
  },
  {
   "cell_type": "markdown",
   "id": "7d092228",
   "metadata": {},
   "source": [
    "## save new data frame"
   ]
  },
  {
   "cell_type": "code",
   "execution_count": 11,
   "id": "ad84449e",
   "metadata": {},
   "outputs": [],
   "source": [
    "df.to_csv(os.path.join(output_dir, 'input_with_repeated_lines.csv'), index=False)"
   ]
  }
 ],
 "metadata": {
  "kernelspec": {
   "display_name": "Python 3 (ipykernel)",
   "language": "python",
   "name": "python3"
  },
  "language_info": {
   "codemirror_mode": {
    "name": "ipython",
    "version": 3
   },
   "file_extension": ".py",
   "mimetype": "text/x-python",
   "name": "python",
   "nbconvert_exporter": "python",
   "pygments_lexer": "ipython3",
   "version": "3.7.3"
  }
 },
 "nbformat": 4,
 "nbformat_minor": 5
}
