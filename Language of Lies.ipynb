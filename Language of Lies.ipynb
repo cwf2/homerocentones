{
 "cells": [
  {
   "cell_type": "markdown",
   "id": "37bebd2b-a6a5-47ff-8bc3-9b09f0ef14ab",
   "metadata": {},
   "source": [
    "# A Gospel in the Language of Lies\n",
    "### Interactive Figures and Data Appendix"
   ]
  },
  {
   "cell_type": "code",
   "execution_count": null,
   "id": "fa1bbb63-4044-49e1-86fd-c1a59a89baf5",
   "metadata": {},
   "outputs": [],
   "source": [
    "import pandas as pd\n",
    "import numpy as np\n",
    "import seaborn as sns\n",
    "from matplotlib import pyplot as plt\n",
    "import os"
   ]
  },
  {
   "cell_type": "code",
   "execution_count": null,
   "id": "0a9e8c77-660f-4a2f-ab53-0171f4d4aa58",
   "metadata": {},
   "outputs": [],
   "source": [
    "file_name = os.path.join('data', 'leave_one_out.csv')\n",
    "df = pd.read_csv(file_name, na_values=[''], keep_default_na=False)\n",
    "\n",
    "# relabel lines of unknown source\n",
    "df['hom_work'] = df['hom_work'].replace('0', np.NaN)\n",
    "df['hom_spkr_being'] = df['hom_spkr_being'].replace('0', np.NaN)\n",
    "\n",
    "# make deception tags ordered categorical values\n",
    "df['dec_line'] = pd.Categorical(df['dec_line'],\n",
    "    categories = ['unclassified', 'None', 'Possible', 'Strong'], ordered=True)\n",
    "df['dec_speech'] = pd.Categorical(df['dec_speech'],\n",
    "    categories = ['unclassified', 'None', 'Possible', 'Strong'], ordered=True)"
   ]
  },
  {
   "cell_type": "markdown",
   "id": "88beb0da-1654-4f2d-9f64-8aed25552bde",
   "metadata": {},
   "source": [
    "## Figures"
   ]
  },
  {
   "cell_type": "code",
   "execution_count": null,
   "id": "8b581b25-309b-4e5f-bf1e-b5abaa4214df",
   "metadata": {},
   "outputs": [],
   "source": [
    "sns.set_style('white')\n",
    "pal = reversed(sns.color_palette('hls')[:4])"
   ]
  },
  {
   "cell_type": "markdown",
   "id": "3003dc58-ec50-4abc-bffe-c52204b18fec",
   "metadata": {},
   "source": [
    "### Overview"
   ]
  },
  {
   "cell_type": "code",
   "execution_count": null,
   "id": "9573a8b0-c881-40fa-aa82-b8103498a0e1",
   "metadata": {},
   "outputs": [],
   "source": [
    "x = df.groupby('hom_work').agg(\n",
    "    lines = ('coefficient.1', 'sum'),\n",
    ")\n",
    "\n",
    "fig, ax = plt.subplots()\n",
    "ax.pie(x['lines'], labels=x.index)\n",
    "\n",
    "plt.show()"
   ]
  },
  {
   "cell_type": "code",
   "execution_count": null,
   "id": "64abfc97-9e6e-4509-a030-29caebf8aceb",
   "metadata": {},
   "outputs": [],
   "source": [
    "# simplified list of characters\n",
    "spkrs = df['hom_spkr_being']\n",
    "\n",
    "for name in ['Odysseus', 'Achilles', 'Telemachus', 'Penelope',]:\n",
    "    spkrs[df['hom_spkr'].str.startswith(name)] = name\n",
    "\n",
    "x = df.groupby(spkrs).agg(\n",
    "    lines = ('coefficient.1', 'sum'),\n",
    ")\n",
    "\n",
    "fig, ax = plt.subplots()\n",
    "ax.pie(x['lines'], labels=x.index)\n",
    "\n",
    "plt.show()"
   ]
  },
  {
   "cell_type": "code",
   "execution_count": null,
   "id": "44d11405-c33c-4810-bec5-2a7fb7a34aaa",
   "metadata": {},
   "outputs": [],
   "source": [
    "df.loc[df['hom_spkr'].str.contains('-'), ['hom_spkr']]"
   ]
  },
  {
   "cell_type": "code",
   "execution_count": null,
   "id": "39b32515-b4c0-4bbd-b6e5-0a6dbffad457",
   "metadata": {},
   "outputs": [],
   "source": [
    "is_disg = df['hom_spkr'].str.contains('-')\n",
    "\n",
    "x = df.groupby(is_disg).agg(\n",
    "    lines = ('coefficient.1', 'sum'),\n",
    ")\n",
    "\n",
    "fig, ax = plt.subplots()\n",
    "ax.pie(x['lines'], labels=x.index)\n",
    "ax.set_title('lines spoken in disguise')\n",
    "\n",
    "plt.show()"
   ]
  },
  {
   "cell_type": "code",
   "execution_count": null,
   "id": "70295661-3d1d-4475-92c0-342f5e9c5b18",
   "metadata": {},
   "outputs": [],
   "source": [
    "x = df.loc[is_disg].groupby('hom_spkr').agg(\n",
    "    lines = ('coefficient.1', 'sum'),\n",
    ").sort_index()\n",
    "\n",
    "fig, ax = plt.subplots()\n",
    "ax.pie(x['lines'], labels=x.index)\n",
    "ax.set_title('lines spoken in disguise')\n",
    "\n",
    "plt.show()"
   ]
  },
  {
   "cell_type": "code",
   "execution_count": null,
   "id": "179675f4-a8c5-4dba-b686-d68bce25bd73",
   "metadata": {},
   "outputs": [],
   "source": [
    "df.groupby(['eud_line', 'segment']).agg(\n",
    "    eud_seq = ('eud_seq', 'first'),\n",
    "    n_segs = ('line-with-segments', 'first'),\n",
    "    eud_spkr = ('eud_spkr', 'first'),\n",
    "    eud_addr = ('eud_addr_all', 'first'),\n",
    "    deceptive_line = ('dec_line', 'max'),\n",
    "    deceptive_speech = ('dec_speech', 'max'),\n",
    ")"
   ]
  },
  {
   "cell_type": "code",
   "execution_count": null,
   "id": "96602aea-ca1c-403c-bd8b-c762b9d4452c",
   "metadata": {},
   "outputs": [],
   "source": [
    "x = df.loc[df['eud_seq']==1]\n",
    "pd.crosstab(x['eud_line'], x['deceptive_speech'], normalize='index').sum().plot.pie()\n",
    "    \n",
    "        "
   ]
  },
  {
   "cell_type": "code",
   "execution_count": null,
   "id": "906906cf-aac0-45ab-b550-1fae32b46381",
   "metadata": {},
   "outputs": [],
   "source": []
  },
  {
   "cell_type": "code",
   "execution_count": null,
   "id": "b147e528-e977-4eb9-ba22-014068dc9994",
   "metadata": {},
   "outputs": [],
   "source": [
    "def plotEudociaSpeech(seq, filename=None):\n",
    "    sns.catplot(\n",
    "        data = df.loc[df['eud_seq']==seq], \n",
    "        x = 'eud_line', \n",
    "        y = 'hom_spkr', \n",
    "        hue = 'dec_line', \n",
    "        kind = 'swarm',\n",
    "        palette = pal,\n",
    "        aspect = 1.4,\n",
    "    )\n",
    "    if filename is not None:\n",
    "        plt.savefig(filename)\n",
    "    plt.show()"
   ]
  },
  {
   "cell_type": "code",
   "execution_count": null,
   "id": "3ce1d00c-c53d-49f6-a65c-4aa3e58b8eb3",
   "metadata": {},
   "outputs": [],
   "source": [
    "plotEudociaSpeech(83)"
   ]
  },
  {
   "cell_type": "code",
   "execution_count": null,
   "id": "ea8a321b-9f86-49c3-8621-5a1ab720433f",
   "metadata": {},
   "outputs": [],
   "source": [
    "sns.catplot(\n",
    "        data = df, \n",
    "        x = 'eud_line', \n",
    "        y = 'eud_spkr', \n",
    "        hue = 'dec_speech', \n",
    "        kind = 'strip',\n",
    "        #palette = pal,\n",
    "        #aspect = 2.5,\n",
    "    )\n",
    "#plt.savefig('foo.pdf')"
   ]
  },
  {
   "cell_type": "code",
   "execution_count": null,
   "id": "d8c2986a-0061-4b61-8a72-3387056e05ae",
   "metadata": {},
   "outputs": [],
   "source": [
    "valid_names = df.loc[df['dec_speech'].isin(['Strong']), 'eud_spkr'].unique()\n",
    "\n",
    "sns.catplot(\n",
    "        data = df.loc[df['eud_spkr'].isin(valid_names)], \n",
    "        x = 'eud_line', \n",
    "        y = 'eud_spkr', \n",
    "        hue = 'dec_speech', \n",
    "        kind = 'strip',\n",
    "        #palette = pal,\n",
    "        aspect = 2.5,\n",
    "    )"
   ]
  }
 ],
 "metadata": {
  "kernelspec": {
   "display_name": "Python 3 (ipykernel)",
   "language": "python",
   "name": "python3"
  },
  "language_info": {
   "codemirror_mode": {
    "name": "ipython",
    "version": 3
   },
   "file_extension": ".py",
   "mimetype": "text/x-python",
   "name": "python",
   "nbconvert_exporter": "python",
   "pygments_lexer": "ipython3",
   "version": "3.11.7"
  }
 },
 "nbformat": 4,
 "nbformat_minor": 5
}
